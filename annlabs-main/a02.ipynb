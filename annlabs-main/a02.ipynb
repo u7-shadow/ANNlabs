{
 "cells": [
  {
   "cell_type": "code",
   "execution_count": null,
   "metadata": {},
   "outputs": [],
   "source": [
    "def neuron(inputs,weights):\n",
    "    weighted_sum=sum(i*w for i,w in zip(inputs,weights))\n",
    "    return 1 if weighted_sum>0 else 0\n",
    "\n",
    "def andnot_gate(x1,x2):\n",
    "    inputs=[x1,x2]\n",
    "    weights=[1,-1]\n",
    "    return neuron(inputs,weights)\n",
    "\n",
    "print(andnot_gate(0,0))\n",
    "print(andnot_gate(0,1))\n",
    "print(andnot_gate(1,0))\n",
    "print(andnot_gate(1,1))"
   ]
  }
 ],
 "metadata": {
  "language_info": {
   "name": "python"
  },
  "orig_nbformat": 4
 },
 "nbformat": 4,
 "nbformat_minor": 2
}
