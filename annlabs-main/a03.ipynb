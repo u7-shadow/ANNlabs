{
 "cells": [
  {
   "cell_type": "code",
   "execution_count": null,
   "metadata": {},
   "outputs": [],
   "source": [
    "import numpy as np\n",
    "import matplotlib.pyplot as plt"
   ]
  },
  {
   "cell_type": "code",
   "execution_count": null,
   "metadata": {},
   "outputs": [],
   "source": [
    "class Perceptron:\n",
    "    def __init__(self):\n",
    "        self.weights=np.zeros(7)\n",
    "        self.bias=np.zeros(1)\n",
    "        self.learning_rate=0.03\n",
    "\n",
    "    def predict(self,X):\n",
    "        predictions=self.weights.dot(X)+self.bias\n",
    "        return 1 if predictions>0 else 0\n",
    "    \n",
    "    def fit(self,X,Y,epochs=100):\n",
    "        for i in range(epochs):\n",
    "            print(f\"Epoch: {i}\")\n",
    "            for x,y in zip(X,Y):\n",
    "                predicted=self.predict(x)\n",
    "                error=y-predicted\n",
    "                self.weights+=self.learning_rate*error*np.array(x)\n",
    "                self.bias+=self.learning_rate*error\n"
   ]
  },
  {
   "cell_type": "code",
   "execution_count": null,
   "metadata": {},
   "outputs": [],
   "source": [
    "X=[]\n",
    "y=[]\n",
    "for i in range(48,58):\n",
    "    X.append([int(x) for x in list(\"{0:07b}\".format(i))])\n",
    "    y.append(i%2)\n",
    "print(X)"
   ]
  },
  {
   "cell_type": "code",
   "execution_count": null,
   "metadata": {},
   "outputs": [],
   "source": [
    "perceptron=Perceptron()\n",
    "perceptron.fit(X,y,epochs=100)"
   ]
  },
  {
   "cell_type": "code",
   "execution_count": null,
   "metadata": {},
   "outputs": [],
   "source": [
    "test=[int(x) for x in list(\"{0:07b}\".format(i))]\n",
    "perceptron.predict(test)"
   ]
  }
 ],
 "metadata": {
  "language_info": {
   "name": "python"
  },
  "orig_nbformat": 4
 },
 "nbformat": 4,
 "nbformat_minor": 2
}
