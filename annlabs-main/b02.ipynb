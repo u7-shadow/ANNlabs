{
 "cells": [
  {
   "cell_type": "code",
   "execution_count": null,
   "metadata": {},
   "outputs": [],
   "source": [
    "class ART1:\n",
    "    def _init_(self, input_size, rho):\n",
    "        self.rho = rho\n",
    "        self.input_size = input_size\n",
    "        self.w = np.ones((input_size, ))\n",
    "\n",
    "    def predict(self, X):\n",
    "        y = np.dot(X, self.w)\n",
    "        return np.where(y > 0.5, 1, 0)  # Use a threshold of 0.5\n",
    "    \n",
    "    def _train_single(self, X):\n",
    "        while True:\n",
    "            y = self.predict(X)\n",
    "            if np.sum(X[self.w==y]) / np.sum(X) >= self.rho:\n",
    "                self.w = X\n",
    "                break\n",
    "\n",
    "    def train(self, X):\n",
    "        for i in range(X.shape[0]):\n",
    "            self._train_single(X[i])\n",
    "\n",
    "\n",
    "# Training data\n",
    "X = np.array([\n",
    "    [1, 0, 0],\n",
    "    [0, 1, 0],\n",
    "    [0, 0, 1]\n",
    "])\n",
    "\n",
    "# Initialize the network\n",
    "art1 = ART1(X.shape[1], 0.6)\n",
    "\n",
    "# Train the network\n",
    "art1.train(X)"
   ]
  }
 ],
 "metadata": {
  "language_info": {
   "name": "python"
  },
  "orig_nbformat": 4
 },
 "nbformat": 4,
 "nbformat_minor": 2
}
