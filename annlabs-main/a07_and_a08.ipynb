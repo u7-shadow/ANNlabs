{
 "cells": [
  {
   "cell_type": "code",
   "execution_count": null,
   "metadata": {},
   "outputs": [],
   "source": [
    "import numpy as np\n",
    "import pandas as pd\n",
    "import matplotlib.pyplot as plt"
   ]
  },
  {
   "cell_type": "code",
   "execution_count": null,
   "metadata": {},
   "outputs": [],
   "source": [
    "from sklearn.datasets import load_digits\n",
    "skldata=load_digits()\n",
    "skldf=pd.DataFrame(skldata[\"data\"])\n",
    "skldf.insert(0, 'target', skldata[\"target\"])\n",
    "skldf.head()"
   ]
  },
  {
   "cell_type": "code",
   "execution_count": null,
   "metadata": {},
   "outputs": [],
   "source": [
    "data=np.array(skldf)\n",
    "m,n=data.shape #m is examples n is features\n",
    "\n",
    "dev_data=data[:200].T\n",
    "Y_dev=dev_data[0]\n",
    "X_dev=dev_data[1:n]\n",
    "X_dev = X_dev / 255\n",
    "\n",
    "train_data=data[200:m].T\n",
    "Y_train = train_data[0]\n",
    "X_train = train_data[1:n]\n",
    "X_train=X_train/255\n"
   ]
  },
  {
   "cell_type": "code",
   "execution_count": null,
   "metadata": {},
   "outputs": [],
   "source": [
    "def initialize_params():\n",
    "    W1=np.random.rand(100,64) -0.5\n",
    "    b1=np.random.rand(100,1)-0.5\n",
    "    W2=np.random.rand(10,100) -0.5\n",
    "    b2=np.random.rand(10,1)-0.5\n",
    "    \n",
    "    return W1,b1,W2,b2\n",
    "\n",
    "def Relu(Z):\n",
    "    return np.maximum(Z,0)\n",
    "\n",
    "def Softmax(Z):\n",
    "    return np.exp(Z) /sum(np.exp(Z))\n",
    "\n",
    "def relu_der(Z):\n",
    "    return Z>0\n",
    "\n",
    "def one_hot(Y):\n",
    "    one_hot_Y = pd.get_dummies(Y)\n",
    "    one_hot_Y = one_hot_Y.values.T\n",
    "    return one_hot_Y\n",
    "\n",
    "def Forward_prop(W1,b1,W2,b2,X):\n",
    "    Z1=W1.dot(X)+b1\n",
    "    A1=Relu(Z1)\n",
    "    Z2=W2.dot(A1)+b2\n",
    "    A2=Softmax(Z2)\n",
    "    return Z1,A1,Z2,A2\n",
    "\n",
    "\n",
    "def back_prop(Z1,A1,Z2,A2,W1,W2,X,Y):\n",
    "    one_hot_Y=one_hot(Y)\n",
    "    dZ2=A2-one_hot_Y\n",
    "    dW2=1/m * dZ2.dot(A1.T)\n",
    "    db2=1/m * np.sum(dZ2)\n",
    "    dZ1=W2.T.dot(dZ2)*relu_der(Z1)\n",
    "    dW1=1/m * dZ1.dot(X.T)\n",
    "    db1=1/m * np.sum(dZ1)\n",
    "    return dW1,db1,dW2,db2\n",
    "\n",
    "def update_params(W1,b1,W2,b2,dW1,db1,dW2,db2,alpha):\n",
    "    W1=W1-alpha*dW1\n",
    "    b1=b1-alpha*db1\n",
    "    W2=W2-alpha*dW2\n",
    "    b2=b2-alpha*db2\n",
    "    return W1,b1,W2,b2\n",
    "\n",
    "def predictions(A2):\n",
    "    return np.argmax(A2,0)\n",
    "\n",
    "def get_accuracy(predictions,Y):\n",
    "    # print(predictions, Y)\n",
    "    return np.sum(predictions == Y) / Y.size"
   ]
  },
  {
   "cell_type": "code",
   "execution_count": null,
   "metadata": {},
   "outputs": [],
   "source": [
    "def model(X,Y,alpha,epochs,threshold):\n",
    "    W1,b1,W2,b2=initialize_params()\n",
    "    for i in range(epochs):\n",
    "        Z1,A1,Z2,A2=Forward_prop(W1,b1,W2,b2,X)\n",
    "        dW1, db1, dW2, db2 = back_prop(Z1, A1, Z2, A2, W1, W2, X, Y)\n",
    "        W1, b1, W2, b2 = update_params(W1, b1, W2, b2, dW1, db1, dW2, db2, alpha)\n",
    "        \n",
    "        preds = predictions(A2)\n",
    "        accuracy=get_accuracy(preds, Y)\n",
    "        if i%10==0:\n",
    "            print(f\"Iteration: {i} \\n Accuracy: {accuracy}\")\n",
    "        if accuracy>=threshold:\n",
    "            return W1, b1, W2, b2\n",
    "        \n",
    "    return W1, b1, W2, b2\n",
    "\n"
   ]
  },
  {
   "cell_type": "code",
   "execution_count": null,
   "metadata": {},
   "outputs": [],
   "source": [
    "W1, b1, W2, b2 = model(X_train, Y_train, 0.30, 500,.80)"
   ]
  },
  {
   "cell_type": "code",
   "execution_count": null,
   "metadata": {},
   "outputs": [],
   "source": [
    "def make_predictions(X, W1, b1, W2, b2):\n",
    "    _, _, _, A2 = Forward_prop(W1, b1, W2, b2, X)\n",
    "    return predictions(A2)\n",
    "\n",
    "def test_prediction(index, W1, b1, W2, b2):\n",
    "    current_image = X_train[:, index, None]\n",
    "    prediction = make_predictions(X_train[:, index, None], W1, b1, W2, b2)\n",
    "    label = Y_train[index]\n",
    "    print(\"Prediction: \", prediction)\n",
    "    print(\"Label: \", label)\n",
    "    \n",
    "    current_image = current_image.reshape((8, 8)) * 255\n",
    "    plt.gray()\n",
    "    plt.imshow(current_image, interpolation='nearest')\n",
    "    plt.show()"
   ]
  },
  {
   "cell_type": "code",
   "execution_count": null,
   "metadata": {},
   "outputs": [],
   "source": [
    "test_prediction(0, W1, b1, W2, b2)\n",
    "test_prediction(1, W1, b1, W2, b2)\n",
    "test_prediction(2, W1, b1, W2, b2)\n",
    "test_prediction(9, W1, b1, W2, b2)"
   ]
  }
 ],
 "metadata": {
  "language_info": {
   "name": "python"
  },
  "orig_nbformat": 4
 },
 "nbformat": 4,
 "nbformat_minor": 2
}
